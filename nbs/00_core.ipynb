{
 "cells": [
  {
   "cell_type": "markdown",
   "metadata": {},
   "source": [
    "# core\n",
    "\n",
    "> Fill in a module description here"
   ]
  },
  {
   "cell_type": "code",
   "execution_count": null,
   "metadata": {},
   "outputs": [],
   "source": [
    "#| default_exp core"
   ]
  },
  {
   "cell_type": "code",
   "execution_count": 9,
   "metadata": {
    "execution": {
     "iopub.execute_input": "2022-10-25T05:51:14.823299Z",
     "iopub.status.busy": "2022-10-25T05:51:14.822652Z",
     "iopub.status.idle": "2022-10-25T05:51:14.829646Z",
     "shell.execute_reply": "2022-10-25T05:51:14.828231Z",
     "shell.execute_reply.started": "2022-10-25T05:51:14.823247Z"
    },
    "tags": []
   },
   "outputs": [],
   "source": [
    "#| hide\n",
    "from nbdev.showdoc import *\n",
    "from fastcore.test import *"
   ]
  },
  {
   "cell_type": "code",
   "execution_count": 7,
   "metadata": {
    "execution": {
     "iopub.execute_input": "2022-10-25T05:50:57.909422Z",
     "iopub.status.busy": "2022-10-25T05:50:57.909114Z",
     "iopub.status.idle": "2022-10-25T05:50:57.913637Z",
     "shell.execute_reply": "2022-10-25T05:50:57.912961Z",
     "shell.execute_reply.started": "2022-10-25T05:50:57.909401Z"
    },
    "tags": []
   },
   "outputs": [],
   "source": [
    "#| export\n",
    "def foo(arg1:int, # 1st arg\n",
    "        arg2:float): # 2nd arg \n",
    "    print('test2')"
   ]
  },
  {
   "cell_type": "code",
   "execution_count": 8,
   "metadata": {
    "execution": {
     "iopub.execute_input": "2022-10-25T05:50:58.255389Z",
     "iopub.status.busy": "2022-10-25T05:50:58.255185Z",
     "iopub.status.idle": "2022-10-25T05:50:58.267190Z",
     "shell.execute_reply": "2022-10-25T05:50:58.266316Z",
     "shell.execute_reply.started": "2022-10-25T05:50:58.255370Z"
    },
    "tags": []
   },
   "outputs": [
    {
     "data": {
      "text/markdown": [
       "---\n",
       "\n",
       "### foo\n",
       "\n",
       ">      foo (arg1:int, arg2:float)\n",
       "\n",
       "|    | **Type** | **Details** |\n",
       "| -- | -------- | ----------- |\n",
       "| arg1 | int | 1st arg |\n",
       "| arg2 | float | 2nd arg |"
      ],
      "text/plain": [
       "---\n",
       "\n",
       "### foo\n",
       "\n",
       ">      foo (arg1:int, arg2:float)\n",
       "\n",
       "|    | **Type** | **Details** |\n",
       "| -- | -------- | ----------- |\n",
       "| arg1 | int | 1st arg |\n",
       "| arg2 | float | 2nd arg |"
      ]
     },
     "execution_count": 8,
     "metadata": {},
     "output_type": "execute_result"
    }
   ],
   "source": [
    "# show_doc(foo)"
   ]
  },
  {
   "cell_type": "code",
   "execution_count": 10,
   "metadata": {
    "execution": {
     "iopub.execute_input": "2022-10-25T05:51:42.891312Z",
     "iopub.status.busy": "2022-10-25T05:51:42.890996Z",
     "iopub.status.idle": "2022-10-25T05:51:42.903882Z",
     "shell.execute_reply": "2022-10-25T05:51:42.903239Z",
     "shell.execute_reply.started": "2022-10-25T05:51:42.891291Z"
    }
   },
   "outputs": [],
   "source": [
    "#| hide\n",
    "import nbdev; nbdev.nbdev_export()"
   ]
  },
  {
   "cell_type": "code",
   "execution_count": null,
   "metadata": {},
   "outputs": [],
   "source": []
  }
 ],
 "metadata": {
  "kernelspec": {
   "display_name": "Python 3 (ipykernel)",
   "language": "python",
   "name": "python3"
  },
  "language_info": {
   "codemirror_mode": {
    "name": "ipython",
    "version": 3
   },
   "file_extension": ".py",
   "mimetype": "text/x-python",
   "name": "python",
   "nbconvert_exporter": "python",
   "pygments_lexer": "ipython3",
   "version": "3.10.6"
  },
  "widgets": {
   "application/vnd.jupyter.widget-state+json": {
    "state": {},
    "version_major": 2,
    "version_minor": 0
   }
  }
 },
 "nbformat": 4,
 "nbformat_minor": 4
}
